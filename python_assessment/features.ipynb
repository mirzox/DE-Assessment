{
 "cells": [
  {
   "cell_type": "code",
   "id": "initial_id",
   "metadata": {
    "collapsed": true,
    "ExecuteTime": {
     "end_time": "2024-06-26T06:36:28.738877Z",
     "start_time": "2024-06-26T06:36:28.731868Z"
    }
   },
   "source": [
    "import os\n",
    "import json\n",
    "from typing import List, TypedDict, NotRequired, Any\n",
    "from datetime import datetime\n",
    "\n",
    "import pandas as pd\n",
    "import numpy as np\n",
    "from numpy import floating\n"
   ],
   "outputs": [],
   "execution_count": 29
  },
  {
   "metadata": {
    "ExecuteTime": {
     "end_time": "2024-06-26T06:36:28.803953Z",
     "start_time": "2024-06-26T06:36:28.768398Z"
    }
   },
   "cell_type": "code",
   "source": [
    "# load the data\n",
    "applications = pd.read_csv(os.path.join(os.getcwd(), 'data.csv'), dtype={\"id\": int})\n",
    "applications['application_date'] = pd.to_datetime(applications['application_date'], format='mixed')\n"
   ],
   "id": "ed716ed863513771",
   "outputs": [],
   "execution_count": 30
  },
  {
   "metadata": {
    "ExecuteTime": {
     "end_time": "2024-06-26T06:36:28.829676Z",
     "start_time": "2024-06-26T06:36:28.824551Z"
    }
   },
   "cell_type": "code",
   "source": "applications.info()",
   "id": "780da25996d627dd",
   "outputs": [
    {
     "name": "stdout",
     "output_type": "stream",
     "text": [
      "<class 'pandas.core.frame.DataFrame'>\n",
      "RangeIndex: 1000 entries, 0 to 999\n",
      "Data columns (total 3 columns):\n",
      " #   Column            Non-Null Count  Dtype              \n",
      "---  ------            --------------  -----              \n",
      " 0   id                1000 non-null   int64              \n",
      " 1   application_date  1000 non-null   datetime64[ns, UTC]\n",
      " 2   contracts         495 non-null    object             \n",
      "dtypes: datetime64[ns, UTC](1), int64(1), object(1)\n",
      "memory usage: 23.6+ KB\n"
     ]
    }
   ],
   "execution_count": 31
  },
  {
   "metadata": {
    "ExecuteTime": {
     "end_time": "2024-06-26T06:36:28.840274Z",
     "start_time": "2024-06-26T06:36:28.835524Z"
    }
   },
   "cell_type": "code",
   "source": "applications.head(10)",
   "id": "55b6e04a990436d7",
   "outputs": [
    {
     "data": {
      "text/plain": [
       "        id                 application_date  \\\n",
       "0  2925210 2024-02-12 19:22:46.652000+00:00   \n",
       "1  2925211 2024-02-12 19:24:29.135000+00:00   \n",
       "2  2925212 2024-02-12 19:24:41.493000+00:00   \n",
       "3  2925213 2024-02-12 19:24:29.135000+00:00   \n",
       "4  2925214 2024-02-12 19:24:56.857000+00:00   \n",
       "5  2925215 2024-02-12 19:25:10.176000+00:00   \n",
       "6  2925216 2024-02-12 19:25:10.176000+00:00   \n",
       "7  2925217 2024-02-12 19:39:43.431000+00:00   \n",
       "8  2925218 2024-02-12 19:40:15.507000+00:00   \n",
       "9  2925219 2024-02-12 19:40:21.729000+00:00   \n",
       "\n",
       "                                           contracts  \n",
       "0                                                NaN  \n",
       "1  [{\"contract_id\": 522530, \"bank\": \"003\", \"summa...  \n",
       "2                                                NaN  \n",
       "3  [{\"contract_id\": 522530, \"bank\": \"003\", \"summa...  \n",
       "4                                                NaN  \n",
       "5  [{\"contract_id\": 522530, \"bank\": \"003\", \"summa...  \n",
       "6  [{\"contract_id\": 522530, \"bank\": \"003\", \"summa...  \n",
       "7                                                NaN  \n",
       "8  [{\"contract_id\": \"\", \"bank\": \"062\", \"summa\": \"...  \n",
       "9                                                NaN  "
      ],
      "text/html": [
       "<div>\n",
       "<style scoped>\n",
       "    .dataframe tbody tr th:only-of-type {\n",
       "        vertical-align: middle;\n",
       "    }\n",
       "\n",
       "    .dataframe tbody tr th {\n",
       "        vertical-align: top;\n",
       "    }\n",
       "\n",
       "    .dataframe thead th {\n",
       "        text-align: right;\n",
       "    }\n",
       "</style>\n",
       "<table border=\"1\" class=\"dataframe\">\n",
       "  <thead>\n",
       "    <tr style=\"text-align: right;\">\n",
       "      <th></th>\n",
       "      <th>id</th>\n",
       "      <th>application_date</th>\n",
       "      <th>contracts</th>\n",
       "    </tr>\n",
       "  </thead>\n",
       "  <tbody>\n",
       "    <tr>\n",
       "      <th>0</th>\n",
       "      <td>2925210</td>\n",
       "      <td>2024-02-12 19:22:46.652000+00:00</td>\n",
       "      <td>NaN</td>\n",
       "    </tr>\n",
       "    <tr>\n",
       "      <th>1</th>\n",
       "      <td>2925211</td>\n",
       "      <td>2024-02-12 19:24:29.135000+00:00</td>\n",
       "      <td>[{\"contract_id\": 522530, \"bank\": \"003\", \"summa...</td>\n",
       "    </tr>\n",
       "    <tr>\n",
       "      <th>2</th>\n",
       "      <td>2925212</td>\n",
       "      <td>2024-02-12 19:24:41.493000+00:00</td>\n",
       "      <td>NaN</td>\n",
       "    </tr>\n",
       "    <tr>\n",
       "      <th>3</th>\n",
       "      <td>2925213</td>\n",
       "      <td>2024-02-12 19:24:29.135000+00:00</td>\n",
       "      <td>[{\"contract_id\": 522530, \"bank\": \"003\", \"summa...</td>\n",
       "    </tr>\n",
       "    <tr>\n",
       "      <th>4</th>\n",
       "      <td>2925214</td>\n",
       "      <td>2024-02-12 19:24:56.857000+00:00</td>\n",
       "      <td>NaN</td>\n",
       "    </tr>\n",
       "    <tr>\n",
       "      <th>5</th>\n",
       "      <td>2925215</td>\n",
       "      <td>2024-02-12 19:25:10.176000+00:00</td>\n",
       "      <td>[{\"contract_id\": 522530, \"bank\": \"003\", \"summa...</td>\n",
       "    </tr>\n",
       "    <tr>\n",
       "      <th>6</th>\n",
       "      <td>2925216</td>\n",
       "      <td>2024-02-12 19:25:10.176000+00:00</td>\n",
       "      <td>[{\"contract_id\": 522530, \"bank\": \"003\", \"summa...</td>\n",
       "    </tr>\n",
       "    <tr>\n",
       "      <th>7</th>\n",
       "      <td>2925217</td>\n",
       "      <td>2024-02-12 19:39:43.431000+00:00</td>\n",
       "      <td>NaN</td>\n",
       "    </tr>\n",
       "    <tr>\n",
       "      <th>8</th>\n",
       "      <td>2925218</td>\n",
       "      <td>2024-02-12 19:40:15.507000+00:00</td>\n",
       "      <td>[{\"contract_id\": \"\", \"bank\": \"062\", \"summa\": \"...</td>\n",
       "    </tr>\n",
       "    <tr>\n",
       "      <th>9</th>\n",
       "      <td>2925219</td>\n",
       "      <td>2024-02-12 19:40:21.729000+00:00</td>\n",
       "      <td>NaN</td>\n",
       "    </tr>\n",
       "  </tbody>\n",
       "</table>\n",
       "</div>"
      ]
     },
     "execution_count": 32,
     "metadata": {},
     "output_type": "execute_result"
    }
   ],
   "execution_count": 32
  },
  {
   "metadata": {
    "ExecuteTime": {
     "end_time": "2024-06-26T06:36:28.863797Z",
     "start_time": "2024-06-26T06:36:28.859492Z"
    }
   },
   "cell_type": "code",
   "source": "pd.DataFrame(json.loads(applications['contracts'][991]))\n",
   "id": "598110c23c95c7",
   "outputs": [
    {
     "data": {
      "text/plain": [
       "  contract_id bank      summa loan_summa  claim_date   claim_id contract_date\n",
       "0       18410  004   49164700          0  03.04.2019      18410    03.04.2019\n",
       "1              004                        22.02.2021      43136              \n",
       "2              062                        14.02.2022    3304534              \n",
       "3     3304674  062  405000000  217320883  14.02.2022    3304674    14.02.2022\n",
       "4              004                        18.02.2022      62750              \n",
       "5              014                        31.05.2023  F00895453              "
      ],
      "text/html": [
       "<div>\n",
       "<style scoped>\n",
       "    .dataframe tbody tr th:only-of-type {\n",
       "        vertical-align: middle;\n",
       "    }\n",
       "\n",
       "    .dataframe tbody tr th {\n",
       "        vertical-align: top;\n",
       "    }\n",
       "\n",
       "    .dataframe thead th {\n",
       "        text-align: right;\n",
       "    }\n",
       "</style>\n",
       "<table border=\"1\" class=\"dataframe\">\n",
       "  <thead>\n",
       "    <tr style=\"text-align: right;\">\n",
       "      <th></th>\n",
       "      <th>contract_id</th>\n",
       "      <th>bank</th>\n",
       "      <th>summa</th>\n",
       "      <th>loan_summa</th>\n",
       "      <th>claim_date</th>\n",
       "      <th>claim_id</th>\n",
       "      <th>contract_date</th>\n",
       "    </tr>\n",
       "  </thead>\n",
       "  <tbody>\n",
       "    <tr>\n",
       "      <th>0</th>\n",
       "      <td>18410</td>\n",
       "      <td>004</td>\n",
       "      <td>49164700</td>\n",
       "      <td>0</td>\n",
       "      <td>03.04.2019</td>\n",
       "      <td>18410</td>\n",
       "      <td>03.04.2019</td>\n",
       "    </tr>\n",
       "    <tr>\n",
       "      <th>1</th>\n",
       "      <td></td>\n",
       "      <td>004</td>\n",
       "      <td></td>\n",
       "      <td></td>\n",
       "      <td>22.02.2021</td>\n",
       "      <td>43136</td>\n",
       "      <td></td>\n",
       "    </tr>\n",
       "    <tr>\n",
       "      <th>2</th>\n",
       "      <td></td>\n",
       "      <td>062</td>\n",
       "      <td></td>\n",
       "      <td></td>\n",
       "      <td>14.02.2022</td>\n",
       "      <td>3304534</td>\n",
       "      <td></td>\n",
       "    </tr>\n",
       "    <tr>\n",
       "      <th>3</th>\n",
       "      <td>3304674</td>\n",
       "      <td>062</td>\n",
       "      <td>405000000</td>\n",
       "      <td>217320883</td>\n",
       "      <td>14.02.2022</td>\n",
       "      <td>3304674</td>\n",
       "      <td>14.02.2022</td>\n",
       "    </tr>\n",
       "    <tr>\n",
       "      <th>4</th>\n",
       "      <td></td>\n",
       "      <td>004</td>\n",
       "      <td></td>\n",
       "      <td></td>\n",
       "      <td>18.02.2022</td>\n",
       "      <td>62750</td>\n",
       "      <td></td>\n",
       "    </tr>\n",
       "    <tr>\n",
       "      <th>5</th>\n",
       "      <td></td>\n",
       "      <td>014</td>\n",
       "      <td></td>\n",
       "      <td></td>\n",
       "      <td>31.05.2023</td>\n",
       "      <td>F00895453</td>\n",
       "      <td></td>\n",
       "    </tr>\n",
       "  </tbody>\n",
       "</table>\n",
       "</div>"
      ]
     },
     "execution_count": 33,
     "metadata": {},
     "output_type": "execute_result"
    }
   ],
   "execution_count": 33
  },
  {
   "metadata": {
    "ExecuteTime": {
     "end_time": "2024-06-26T06:36:28.874863Z",
     "start_time": "2024-06-26T06:36:28.871885Z"
    }
   },
   "cell_type": "code",
   "source": "applications['contracts'][991]",
   "id": "97c9231c7d5db6ed",
   "outputs": [
    {
     "data": {
      "text/plain": [
       "'[{\"contract_id\": 18410, \"bank\": \"004\", \"summa\": 49164700, \"loan_summa\": 0, \"claim_date\": \"03.04.2019\", \"claim_id\": 18410, \"contract_date\": \"03.04.2019\"}, {\"contract_id\": \"\", \"bank\": \"004\", \"summa\": \"\", \"loan_summa\": \"\", \"claim_date\": \"22.02.2021\", \"claim_id\": 43136, \"contract_date\": \"\"}, {\"contract_id\": \"\", \"bank\": \"062\", \"summa\": \"\", \"loan_summa\": \"\", \"claim_date\": \"14.02.2022\", \"claim_id\": 3304534, \"contract_date\": \"\"}, {\"contract_id\": 3304674, \"bank\": \"062\", \"summa\": 405000000, \"loan_summa\": 217320883, \"claim_date\": \"14.02.2022\", \"claim_id\": 3304674, \"contract_date\": \"14.02.2022\"}, {\"contract_id\": \"\", \"bank\": \"004\", \"summa\": \"\", \"loan_summa\": \"\", \"claim_date\": \"18.02.2022\", \"claim_id\": 62750, \"contract_date\": \"\"}, {\"contract_id\": \"\", \"bank\": \"014\", \"summa\": \"\", \"loan_summa\": \"\", \"claim_date\": \"31.05.2023\", \"claim_id\": \"F00895453\", \"contract_date\": \"\"}]'"
      ]
     },
     "execution_count": 34,
     "metadata": {},
     "output_type": "execute_result"
    }
   ],
   "execution_count": 34
  },
  {
   "metadata": {
    "ExecuteTime": {
     "end_time": "2024-06-26T06:36:28.895380Z",
     "start_time": "2024-06-26T06:36:28.893424Z"
    }
   },
   "cell_type": "code",
   "source": [
    "# filter out rows with null contacts\n",
    "not_null_contacts = ~pd.isna(applications['contracts'])\n"
   ],
   "id": "c22cc864149674d6",
   "outputs": [],
   "execution_count": 35
  },
  {
   "metadata": {
    "ExecuteTime": {
     "end_time": "2024-06-26T06:36:28.937460Z",
     "start_time": "2024-06-26T06:36:28.919225Z"
    }
   },
   "cell_type": "code",
   "source": [
    "# convert not null contacts to list of contracts\n",
    "\n",
    "applications.loc[not_null_contacts, 'contracts'] = applications.loc[not_null_contacts, 'contracts'].apply(\n",
    "    lambda x: json.loads(x) if isinstance(json.loads(x), list) else [json.loads(x)]\n",
    ")"
   ],
   "id": "df6f20d36a9c61f7",
   "outputs": [],
   "execution_count": 36
  },
  {
   "metadata": {
    "ExecuteTime": {
     "end_time": "2024-06-26T06:36:28.976036Z",
     "start_time": "2024-06-26T06:36:28.973248Z"
    }
   },
   "cell_type": "code",
   "source": [
    "# all types used in code \n",
    "class Contract(TypedDict):\n",
    "    contract_id: int | str\n",
    "    bank: NotRequired[str]\n",
    "    summa: int | str\n",
    "    loan_summa: int | str\n",
    "    claim_date: str\n",
    "    claim_id: int | str\n",
    "    contract_date: str\n",
    "\n",
    "Contracts = List[Contract]"
   ],
   "id": "763eb47e4596e406",
   "outputs": [],
   "execution_count": 37
  },
  {
   "metadata": {
    "ExecuteTime": {
     "end_time": "2024-06-26T06:36:29.078785Z",
     "start_time": "2024-06-26T06:36:29.077245Z"
    }
   },
   "cell_type": "code",
   "source": "",
   "id": "8689166f68a9a781",
   "outputs": [],
   "execution_count": 37
  },
  {
   "metadata": {
    "ExecuteTime": {
     "end_time": "2024-06-26T06:36:29.109693Z",
     "start_time": "2024-06-26T06:36:29.106711Z"
    }
   },
   "cell_type": "code",
   "source": [
    "# adding new columns to store features\n",
    "applications['tot_claim_cnt_l180d'] = -3\n",
    "applications['disb_bank_loan_wo_tbc'] = -3\n",
    "applications['day_sinlastloan'] = -3\n",
    "applications['disb_bank_loan_by_tbc'] = -3\n",
    "\n",
    "applications['loan_to_claim_ratio'] = 0.0\n",
    "\n",
    "applications['average_summa'] = -1.0\n",
    "applications['average_loan_summa'] = -1.0\n"
   ],
   "id": "c24706ece8bd746a",
   "outputs": [],
   "execution_count": 38
  },
  {
   "metadata": {
    "ExecuteTime": {
     "end_time": "2024-06-26T06:36:29.165232Z",
     "start_time": "2024-06-26T06:36:29.123118Z"
    }
   },
   "cell_type": "code",
   "source": "applications.head(10)",
   "id": "f6254bed18aba855",
   "outputs": [
    {
     "data": {
      "text/plain": [
       "        id                 application_date  \\\n",
       "0  2925210 2024-02-12 19:22:46.652000+00:00   \n",
       "1  2925211 2024-02-12 19:24:29.135000+00:00   \n",
       "2  2925212 2024-02-12 19:24:41.493000+00:00   \n",
       "3  2925213 2024-02-12 19:24:29.135000+00:00   \n",
       "4  2925214 2024-02-12 19:24:56.857000+00:00   \n",
       "5  2925215 2024-02-12 19:25:10.176000+00:00   \n",
       "6  2925216 2024-02-12 19:25:10.176000+00:00   \n",
       "7  2925217 2024-02-12 19:39:43.431000+00:00   \n",
       "8  2925218 2024-02-12 19:40:15.507000+00:00   \n",
       "9  2925219 2024-02-12 19:40:21.729000+00:00   \n",
       "\n",
       "                                           contracts  tot_claim_cnt_l180d  \\\n",
       "0                                                NaN                   -3   \n",
       "1  [{'contract_id': 522530, 'bank': '003', 'summa...                   -3   \n",
       "2                                                NaN                   -3   \n",
       "3  [{'contract_id': 522530, 'bank': '003', 'summa...                   -3   \n",
       "4                                                NaN                   -3   \n",
       "5  [{'contract_id': 522530, 'bank': '003', 'summa...                   -3   \n",
       "6  [{'contract_id': 522530, 'bank': '003', 'summa...                   -3   \n",
       "7                                                NaN                   -3   \n",
       "8  [{'contract_id': '', 'bank': '062', 'summa': '...                   -3   \n",
       "9                                                NaN                   -3   \n",
       "\n",
       "   disb_bank_loan_wo_tbc  day_sinlastloan  disb_bank_loan_by_tbc  \\\n",
       "0                     -3               -3                     -3   \n",
       "1                     -3               -3                     -3   \n",
       "2                     -3               -3                     -3   \n",
       "3                     -3               -3                     -3   \n",
       "4                     -3               -3                     -3   \n",
       "5                     -3               -3                     -3   \n",
       "6                     -3               -3                     -3   \n",
       "7                     -3               -3                     -3   \n",
       "8                     -3               -3                     -3   \n",
       "9                     -3               -3                     -3   \n",
       "\n",
       "   loan_to_claim_ratio  average_summa  average_loan_summa  \n",
       "0                  0.0           -1.0                -1.0  \n",
       "1                  0.0           -1.0                -1.0  \n",
       "2                  0.0           -1.0                -1.0  \n",
       "3                  0.0           -1.0                -1.0  \n",
       "4                  0.0           -1.0                -1.0  \n",
       "5                  0.0           -1.0                -1.0  \n",
       "6                  0.0           -1.0                -1.0  \n",
       "7                  0.0           -1.0                -1.0  \n",
       "8                  0.0           -1.0                -1.0  \n",
       "9                  0.0           -1.0                -1.0  "
      ],
      "text/html": [
       "<div>\n",
       "<style scoped>\n",
       "    .dataframe tbody tr th:only-of-type {\n",
       "        vertical-align: middle;\n",
       "    }\n",
       "\n",
       "    .dataframe tbody tr th {\n",
       "        vertical-align: top;\n",
       "    }\n",
       "\n",
       "    .dataframe thead th {\n",
       "        text-align: right;\n",
       "    }\n",
       "</style>\n",
       "<table border=\"1\" class=\"dataframe\">\n",
       "  <thead>\n",
       "    <tr style=\"text-align: right;\">\n",
       "      <th></th>\n",
       "      <th>id</th>\n",
       "      <th>application_date</th>\n",
       "      <th>contracts</th>\n",
       "      <th>tot_claim_cnt_l180d</th>\n",
       "      <th>disb_bank_loan_wo_tbc</th>\n",
       "      <th>day_sinlastloan</th>\n",
       "      <th>disb_bank_loan_by_tbc</th>\n",
       "      <th>loan_to_claim_ratio</th>\n",
       "      <th>average_summa</th>\n",
       "      <th>average_loan_summa</th>\n",
       "    </tr>\n",
       "  </thead>\n",
       "  <tbody>\n",
       "    <tr>\n",
       "      <th>0</th>\n",
       "      <td>2925210</td>\n",
       "      <td>2024-02-12 19:22:46.652000+00:00</td>\n",
       "      <td>NaN</td>\n",
       "      <td>-3</td>\n",
       "      <td>-3</td>\n",
       "      <td>-3</td>\n",
       "      <td>-3</td>\n",
       "      <td>0.0</td>\n",
       "      <td>-1.0</td>\n",
       "      <td>-1.0</td>\n",
       "    </tr>\n",
       "    <tr>\n",
       "      <th>1</th>\n",
       "      <td>2925211</td>\n",
       "      <td>2024-02-12 19:24:29.135000+00:00</td>\n",
       "      <td>[{'contract_id': 522530, 'bank': '003', 'summa...</td>\n",
       "      <td>-3</td>\n",
       "      <td>-3</td>\n",
       "      <td>-3</td>\n",
       "      <td>-3</td>\n",
       "      <td>0.0</td>\n",
       "      <td>-1.0</td>\n",
       "      <td>-1.0</td>\n",
       "    </tr>\n",
       "    <tr>\n",
       "      <th>2</th>\n",
       "      <td>2925212</td>\n",
       "      <td>2024-02-12 19:24:41.493000+00:00</td>\n",
       "      <td>NaN</td>\n",
       "      <td>-3</td>\n",
       "      <td>-3</td>\n",
       "      <td>-3</td>\n",
       "      <td>-3</td>\n",
       "      <td>0.0</td>\n",
       "      <td>-1.0</td>\n",
       "      <td>-1.0</td>\n",
       "    </tr>\n",
       "    <tr>\n",
       "      <th>3</th>\n",
       "      <td>2925213</td>\n",
       "      <td>2024-02-12 19:24:29.135000+00:00</td>\n",
       "      <td>[{'contract_id': 522530, 'bank': '003', 'summa...</td>\n",
       "      <td>-3</td>\n",
       "      <td>-3</td>\n",
       "      <td>-3</td>\n",
       "      <td>-3</td>\n",
       "      <td>0.0</td>\n",
       "      <td>-1.0</td>\n",
       "      <td>-1.0</td>\n",
       "    </tr>\n",
       "    <tr>\n",
       "      <th>4</th>\n",
       "      <td>2925214</td>\n",
       "      <td>2024-02-12 19:24:56.857000+00:00</td>\n",
       "      <td>NaN</td>\n",
       "      <td>-3</td>\n",
       "      <td>-3</td>\n",
       "      <td>-3</td>\n",
       "      <td>-3</td>\n",
       "      <td>0.0</td>\n",
       "      <td>-1.0</td>\n",
       "      <td>-1.0</td>\n",
       "    </tr>\n",
       "    <tr>\n",
       "      <th>5</th>\n",
       "      <td>2925215</td>\n",
       "      <td>2024-02-12 19:25:10.176000+00:00</td>\n",
       "      <td>[{'contract_id': 522530, 'bank': '003', 'summa...</td>\n",
       "      <td>-3</td>\n",
       "      <td>-3</td>\n",
       "      <td>-3</td>\n",
       "      <td>-3</td>\n",
       "      <td>0.0</td>\n",
       "      <td>-1.0</td>\n",
       "      <td>-1.0</td>\n",
       "    </tr>\n",
       "    <tr>\n",
       "      <th>6</th>\n",
       "      <td>2925216</td>\n",
       "      <td>2024-02-12 19:25:10.176000+00:00</td>\n",
       "      <td>[{'contract_id': 522530, 'bank': '003', 'summa...</td>\n",
       "      <td>-3</td>\n",
       "      <td>-3</td>\n",
       "      <td>-3</td>\n",
       "      <td>-3</td>\n",
       "      <td>0.0</td>\n",
       "      <td>-1.0</td>\n",
       "      <td>-1.0</td>\n",
       "    </tr>\n",
       "    <tr>\n",
       "      <th>7</th>\n",
       "      <td>2925217</td>\n",
       "      <td>2024-02-12 19:39:43.431000+00:00</td>\n",
       "      <td>NaN</td>\n",
       "      <td>-3</td>\n",
       "      <td>-3</td>\n",
       "      <td>-3</td>\n",
       "      <td>-3</td>\n",
       "      <td>0.0</td>\n",
       "      <td>-1.0</td>\n",
       "      <td>-1.0</td>\n",
       "    </tr>\n",
       "    <tr>\n",
       "      <th>8</th>\n",
       "      <td>2925218</td>\n",
       "      <td>2024-02-12 19:40:15.507000+00:00</td>\n",
       "      <td>[{'contract_id': '', 'bank': '062', 'summa': '...</td>\n",
       "      <td>-3</td>\n",
       "      <td>-3</td>\n",
       "      <td>-3</td>\n",
       "      <td>-3</td>\n",
       "      <td>0.0</td>\n",
       "      <td>-1.0</td>\n",
       "      <td>-1.0</td>\n",
       "    </tr>\n",
       "    <tr>\n",
       "      <th>9</th>\n",
       "      <td>2925219</td>\n",
       "      <td>2024-02-12 19:40:21.729000+00:00</td>\n",
       "      <td>NaN</td>\n",
       "      <td>-3</td>\n",
       "      <td>-3</td>\n",
       "      <td>-3</td>\n",
       "      <td>-3</td>\n",
       "      <td>0.0</td>\n",
       "      <td>-1.0</td>\n",
       "      <td>-1.0</td>\n",
       "    </tr>\n",
       "  </tbody>\n",
       "</table>\n",
       "</div>"
      ]
     },
     "execution_count": 39,
     "metadata": {},
     "output_type": "execute_result"
    }
   ],
   "execution_count": 39
  },
  {
   "metadata": {
    "ExecuteTime": {
     "end_time": "2024-06-26T06:36:29.168673Z",
     "start_time": "2024-06-26T06:36:29.166703Z"
    }
   },
   "cell_type": "code",
   "source": [
    "def tot_claim_cnt_l180d(claims: Contracts) -> int:\n",
    "    today = datetime.now()\n",
    "    return len(list(filter(lambda claim: (today - datetime.strptime(claim['claim_date'], '%d.%m.%Y')).days < 180, claims)))"
   ],
   "id": "d41e257cd2811bfb",
   "outputs": [],
   "execution_count": 40
  },
  {
   "metadata": {
    "ExecuteTime": {
     "end_time": "2024-06-26T06:36:29.171618Z",
     "start_time": "2024-06-26T06:36:29.169339Z"
    }
   },
   "cell_type": "code",
   "source": [
    "def disb_bank_loan_wo_tbc(claims: Contracts) -> int:\n",
    "    filtered_claims = list(\n",
    "        filter(lambda x: x.get('bank', None) not in ['LIZ', 'LOM', 'MKO', 'SUG', None] and x['contract_date'],\n",
    "               claims)\n",
    "    )\n",
    "    if len(filtered_claims) == 0:\n",
    "        return -1\n",
    "\n",
    "    return sum([int(claim['loan_summa']) for claim in filtered_claims if str(claim['loan_summa']).isdigit()])"
   ],
   "id": "4d31a5013e57a5d6",
   "outputs": [],
   "execution_count": 41
  },
  {
   "metadata": {
    "ExecuteTime": {
     "end_time": "2024-06-26T06:36:29.183129Z",
     "start_time": "2024-06-26T06:36:29.180356Z"
    }
   },
   "cell_type": "code",
   "source": [
    "def day_sinlastloan(claims: List[Contract], application_date: datetime) -> int:\n",
    "\n",
    "    claims = list(filter(lambda x: x['summa'] != '', claims))\n",
    "    if not claims:\n",
    "        return -1\n",
    "\n",
    "    sorted_claims = sorted(claims, key=lambda x: datetime.strptime(x['claim_date'], '%d.%m.%Y'), reverse=True)\n",
    "    return (application_date.date() - datetime.strptime(sorted_claims[0]['claim_date'], '%d.%m.%Y').date()).days\n"
   ],
   "id": "e0d40587c472636f",
   "outputs": [],
   "execution_count": 42
  },
  {
   "metadata": {
    "ExecuteTime": {
     "end_time": "2024-06-26T06:36:29.194656Z",
     "start_time": "2024-06-26T06:36:29.192560Z"
    }
   },
   "cell_type": "code",
   "source": [
    "def disb_bank_loan_by_tbc(claims: Contracts) -> int:\n",
    "    filtered_claims = list(\n",
    "        filter(lambda x: x.get('bank', None) in ['LIZ', 'LOM', 'MKO', 'SUG'] and x['contract_date'],\n",
    "               claims)\n",
    "    )\n",
    "    if len(filtered_claims) == 0:\n",
    "        return -1\n",
    "\n",
    "    return sum([int(claim['loan_summa']) for claim in filtered_claims if str(claim['loan_summa']).isdigit()])"
   ],
   "id": "7bb0fbd1879576fa",
   "outputs": [],
   "execution_count": 43
  },
  {
   "metadata": {
    "ExecuteTime": {
     "end_time": "2024-06-26T06:36:29.214755Z",
     "start_time": "2024-06-26T06:36:29.212570Z"
    }
   },
   "cell_type": "code",
   "source": [
    "def loan_to_claim_ratio(claims: Contracts) -> float:\n",
    "    claims = list(filter(lambda x: x['summa'] != '', claims))\n",
    "    if not claims:\n",
    "        return -1\n",
    "\n",
    "    return sum([int(claim['loan_summa']) for claim in claims if str(claim['loan_summa']).isdigit()]) / sum(\n",
    "        [int(claim['summa']) for claim in claims if str(claim['summa']).isdigit()])"
   ],
   "id": "ea5f03d80eb91bf3",
   "outputs": [],
   "execution_count": 44
  },
  {
   "metadata": {
    "ExecuteTime": {
     "end_time": "2024-06-26T06:36:29.228018Z",
     "start_time": "2024-06-26T06:36:29.226067Z"
    }
   },
   "cell_type": "code",
   "source": [
    "def average_summa(claims: Contracts) -> floating[Any]:\n",
    "    claims = list(filter(lambda x: x['summa'] != '', claims))\n",
    "    if not claims:\n",
    "        return -1\n",
    "\n",
    "    return np.mean([int(claim['summa']) for claim in claims if str(claim['summa']).isdigit()])"
   ],
   "id": "ee946bb57713dc70",
   "outputs": [],
   "execution_count": 45
  },
  {
   "metadata": {
    "ExecuteTime": {
     "end_time": "2024-06-26T06:36:29.269971Z",
     "start_time": "2024-06-26T06:36:29.267113Z"
    }
   },
   "cell_type": "code",
   "source": [
    "def average_loan_summa(claims: Contracts) -> floating[Any]:\n",
    "    claims = list(filter(lambda x: x['loan_summa'] != '', claims))\n",
    "    if not claims:\n",
    "        return -1\n",
    "\n",
    "    return np.mean([int(claim['loan_summa']) for claim in claims if str(claim['loan_summa']).isdigit()])"
   ],
   "id": "bf197677a4e883df",
   "outputs": [],
   "execution_count": 46
  },
  {
   "metadata": {
    "ExecuteTime": {
     "end_time": "2024-06-26T06:36:29.322147Z",
     "start_time": "2024-06-26T06:36:29.295986Z"
    }
   },
   "cell_type": "code",
   "source": [
    "\n",
    "applications.loc[not_null_contacts, 'tot_claim_cnt_l180d'] = applications.loc[not_null_contacts]['contracts'].apply(tot_claim_cnt_l180d)"
   ],
   "id": "450a14ff2a497ebd",
   "outputs": [],
   "execution_count": 47
  },
  {
   "metadata": {
    "ExecuteTime": {
     "end_time": "2024-06-26T06:36:29.327324Z",
     "start_time": "2024-06-26T06:36:29.323303Z"
    }
   },
   "cell_type": "code",
   "source": [
    "\n",
    "applications.loc[not_null_contacts, 'disb_bank_loan_wo_tbc'] = applications.loc[not_null_contacts]['contracts'].apply(disb_bank_loan_wo_tbc)\n"
   ],
   "id": "63144eb8a40ab488",
   "outputs": [],
   "execution_count": 48
  },
  {
   "metadata": {
    "ExecuteTime": {
     "end_time": "2024-06-26T06:36:29.341396Z",
     "start_time": "2024-06-26T06:36:29.327843Z"
    }
   },
   "cell_type": "code",
   "source": [
    "\n",
    "applications.loc[not_null_contacts, 'day_sinlastloan'] = applications.loc[not_null_contacts].apply(lambda columns: day_sinlastloan( columns.contracts, columns.application_date), axis=1)"
   ],
   "id": "8e611e2115aced73",
   "outputs": [],
   "execution_count": 49
  },
  {
   "metadata": {
    "ExecuteTime": {
     "end_time": "2024-06-26T06:36:29.347270Z",
     "start_time": "2024-06-26T06:36:29.342755Z"
    }
   },
   "cell_type": "code",
   "source": [
    "\n",
    "applications.loc[not_null_contacts, 'disb_bank_loan_by_tbc'] = applications.loc[not_null_contacts]['contracts'].apply(disb_bank_loan_by_tbc)"
   ],
   "id": "517749a1dd70c069",
   "outputs": [],
   "execution_count": 50
  },
  {
   "metadata": {
    "ExecuteTime": {
     "end_time": "2024-06-26T06:36:29.352368Z",
     "start_time": "2024-06-26T06:36:29.348480Z"
    }
   },
   "cell_type": "code",
   "source": "applications.loc[not_null_contacts, 'loan_to_claim_ratio'] = applications.loc[not_null_contacts]['contracts'].apply(loan_to_claim_ratio)",
   "id": "f7dfe9b71bfe4f16",
   "outputs": [],
   "execution_count": 51
  },
  {
   "metadata": {
    "ExecuteTime": {
     "end_time": "2024-06-26T06:36:29.358677Z",
     "start_time": "2024-06-26T06:36:29.353291Z"
    }
   },
   "cell_type": "code",
   "source": "applications.loc[not_null_contacts, 'average_summa'] = applications.loc[not_null_contacts]['contracts'].apply(average_summa)",
   "id": "beda8ff5fceced27",
   "outputs": [],
   "execution_count": 52
  },
  {
   "metadata": {
    "ExecuteTime": {
     "end_time": "2024-06-26T06:36:29.364582Z",
     "start_time": "2024-06-26T06:36:29.359553Z"
    }
   },
   "cell_type": "code",
   "source": "applications.loc[not_null_contacts, 'average_loan_summa'] = applications.loc[not_null_contacts]['contracts'].apply(average_loan_summa)",
   "id": "51e08d3c81769906",
   "outputs": [],
   "execution_count": 53
  },
  {
   "metadata": {
    "ExecuteTime": {
     "end_time": "2024-06-26T06:36:29.392632Z",
     "start_time": "2024-06-26T06:36:29.371468Z"
    }
   },
   "cell_type": "code",
   "source": "applications",
   "id": "e101769cc82fce81",
   "outputs": [
    {
     "data": {
      "text/plain": [
       "          id                 application_date  \\\n",
       "0    2925210 2024-02-12 19:22:46.652000+00:00   \n",
       "1    2925211 2024-02-12 19:24:29.135000+00:00   \n",
       "2    2925212 2024-02-12 19:24:41.493000+00:00   \n",
       "3    2925213 2024-02-12 19:24:29.135000+00:00   \n",
       "4    2925214 2024-02-12 19:24:56.857000+00:00   \n",
       "..       ...                              ...   \n",
       "995  2926205 2024-02-13 06:09:54.210000+00:00   \n",
       "996  2926206 2024-02-13 06:09:54.306000+00:00   \n",
       "997  2926207 2024-02-13 06:09:55.661000+00:00   \n",
       "998  2926208 2024-02-13 06:09:57.024000+00:00   \n",
       "999  2926209 2024-02-13 06:10:00.403000+00:00   \n",
       "\n",
       "                                             contracts  tot_claim_cnt_l180d  \\\n",
       "0                                                  NaN                   -3   \n",
       "1    [{'contract_id': 522530, 'bank': '003', 'summa...                   22   \n",
       "2                                                  NaN                   -3   \n",
       "3    [{'contract_id': 522530, 'bank': '003', 'summa...                   22   \n",
       "4                                                  NaN                   -3   \n",
       "..                                                 ...                  ...   \n",
       "995  [{'contract_id': 18410, 'bank': '004', 'summa'...                    0   \n",
       "996                                                NaN                   -3   \n",
       "997                                                NaN                   -3   \n",
       "998                                                NaN                   -3   \n",
       "999                                                NaN                   -3   \n",
       "\n",
       "     disb_bank_loan_wo_tbc  day_sinlastloan  disb_bank_loan_by_tbc  \\\n",
       "0                       -3               -3                     -3   \n",
       "1                        0              430                     -1   \n",
       "2                       -3               -3                     -3   \n",
       "3                        0              430                     -1   \n",
       "4                       -3               -3                     -3   \n",
       "..                     ...              ...                    ...   \n",
       "995              217320883              729                     -1   \n",
       "996                     -3               -3                     -3   \n",
       "997                     -3               -3                     -3   \n",
       "998                     -3               -3                     -3   \n",
       "999                     -3               -3                     -3   \n",
       "\n",
       "     loan_to_claim_ratio  average_summa  average_loan_summa  \n",
       "0               0.000000  -1.000000e+00                -1.0  \n",
       "1               0.000000   5.033333e+08                 0.0  \n",
       "2               0.000000  -1.000000e+00                -1.0  \n",
       "3               0.000000   5.033333e+08                 0.0  \n",
       "4               0.000000  -1.000000e+00                -1.0  \n",
       "..                   ...            ...                 ...  \n",
       "995             0.478507   2.270824e+08         108660441.5  \n",
       "996             0.000000  -1.000000e+00                -1.0  \n",
       "997             0.000000  -1.000000e+00                -1.0  \n",
       "998             0.000000  -1.000000e+00                -1.0  \n",
       "999             0.000000  -1.000000e+00                -1.0  \n",
       "\n",
       "[1000 rows x 10 columns]"
      ],
      "text/html": [
       "<div>\n",
       "<style scoped>\n",
       "    .dataframe tbody tr th:only-of-type {\n",
       "        vertical-align: middle;\n",
       "    }\n",
       "\n",
       "    .dataframe tbody tr th {\n",
       "        vertical-align: top;\n",
       "    }\n",
       "\n",
       "    .dataframe thead th {\n",
       "        text-align: right;\n",
       "    }\n",
       "</style>\n",
       "<table border=\"1\" class=\"dataframe\">\n",
       "  <thead>\n",
       "    <tr style=\"text-align: right;\">\n",
       "      <th></th>\n",
       "      <th>id</th>\n",
       "      <th>application_date</th>\n",
       "      <th>contracts</th>\n",
       "      <th>tot_claim_cnt_l180d</th>\n",
       "      <th>disb_bank_loan_wo_tbc</th>\n",
       "      <th>day_sinlastloan</th>\n",
       "      <th>disb_bank_loan_by_tbc</th>\n",
       "      <th>loan_to_claim_ratio</th>\n",
       "      <th>average_summa</th>\n",
       "      <th>average_loan_summa</th>\n",
       "    </tr>\n",
       "  </thead>\n",
       "  <tbody>\n",
       "    <tr>\n",
       "      <th>0</th>\n",
       "      <td>2925210</td>\n",
       "      <td>2024-02-12 19:22:46.652000+00:00</td>\n",
       "      <td>NaN</td>\n",
       "      <td>-3</td>\n",
       "      <td>-3</td>\n",
       "      <td>-3</td>\n",
       "      <td>-3</td>\n",
       "      <td>0.000000</td>\n",
       "      <td>-1.000000e+00</td>\n",
       "      <td>-1.0</td>\n",
       "    </tr>\n",
       "    <tr>\n",
       "      <th>1</th>\n",
       "      <td>2925211</td>\n",
       "      <td>2024-02-12 19:24:29.135000+00:00</td>\n",
       "      <td>[{'contract_id': 522530, 'bank': '003', 'summa...</td>\n",
       "      <td>22</td>\n",
       "      <td>0</td>\n",
       "      <td>430</td>\n",
       "      <td>-1</td>\n",
       "      <td>0.000000</td>\n",
       "      <td>5.033333e+08</td>\n",
       "      <td>0.0</td>\n",
       "    </tr>\n",
       "    <tr>\n",
       "      <th>2</th>\n",
       "      <td>2925212</td>\n",
       "      <td>2024-02-12 19:24:41.493000+00:00</td>\n",
       "      <td>NaN</td>\n",
       "      <td>-3</td>\n",
       "      <td>-3</td>\n",
       "      <td>-3</td>\n",
       "      <td>-3</td>\n",
       "      <td>0.000000</td>\n",
       "      <td>-1.000000e+00</td>\n",
       "      <td>-1.0</td>\n",
       "    </tr>\n",
       "    <tr>\n",
       "      <th>3</th>\n",
       "      <td>2925213</td>\n",
       "      <td>2024-02-12 19:24:29.135000+00:00</td>\n",
       "      <td>[{'contract_id': 522530, 'bank': '003', 'summa...</td>\n",
       "      <td>22</td>\n",
       "      <td>0</td>\n",
       "      <td>430</td>\n",
       "      <td>-1</td>\n",
       "      <td>0.000000</td>\n",
       "      <td>5.033333e+08</td>\n",
       "      <td>0.0</td>\n",
       "    </tr>\n",
       "    <tr>\n",
       "      <th>4</th>\n",
       "      <td>2925214</td>\n",
       "      <td>2024-02-12 19:24:56.857000+00:00</td>\n",
       "      <td>NaN</td>\n",
       "      <td>-3</td>\n",
       "      <td>-3</td>\n",
       "      <td>-3</td>\n",
       "      <td>-3</td>\n",
       "      <td>0.000000</td>\n",
       "      <td>-1.000000e+00</td>\n",
       "      <td>-1.0</td>\n",
       "    </tr>\n",
       "    <tr>\n",
       "      <th>...</th>\n",
       "      <td>...</td>\n",
       "      <td>...</td>\n",
       "      <td>...</td>\n",
       "      <td>...</td>\n",
       "      <td>...</td>\n",
       "      <td>...</td>\n",
       "      <td>...</td>\n",
       "      <td>...</td>\n",
       "      <td>...</td>\n",
       "      <td>...</td>\n",
       "    </tr>\n",
       "    <tr>\n",
       "      <th>995</th>\n",
       "      <td>2926205</td>\n",
       "      <td>2024-02-13 06:09:54.210000+00:00</td>\n",
       "      <td>[{'contract_id': 18410, 'bank': '004', 'summa'...</td>\n",
       "      <td>0</td>\n",
       "      <td>217320883</td>\n",
       "      <td>729</td>\n",
       "      <td>-1</td>\n",
       "      <td>0.478507</td>\n",
       "      <td>2.270824e+08</td>\n",
       "      <td>108660441.5</td>\n",
       "    </tr>\n",
       "    <tr>\n",
       "      <th>996</th>\n",
       "      <td>2926206</td>\n",
       "      <td>2024-02-13 06:09:54.306000+00:00</td>\n",
       "      <td>NaN</td>\n",
       "      <td>-3</td>\n",
       "      <td>-3</td>\n",
       "      <td>-3</td>\n",
       "      <td>-3</td>\n",
       "      <td>0.000000</td>\n",
       "      <td>-1.000000e+00</td>\n",
       "      <td>-1.0</td>\n",
       "    </tr>\n",
       "    <tr>\n",
       "      <th>997</th>\n",
       "      <td>2926207</td>\n",
       "      <td>2024-02-13 06:09:55.661000+00:00</td>\n",
       "      <td>NaN</td>\n",
       "      <td>-3</td>\n",
       "      <td>-3</td>\n",
       "      <td>-3</td>\n",
       "      <td>-3</td>\n",
       "      <td>0.000000</td>\n",
       "      <td>-1.000000e+00</td>\n",
       "      <td>-1.0</td>\n",
       "    </tr>\n",
       "    <tr>\n",
       "      <th>998</th>\n",
       "      <td>2926208</td>\n",
       "      <td>2024-02-13 06:09:57.024000+00:00</td>\n",
       "      <td>NaN</td>\n",
       "      <td>-3</td>\n",
       "      <td>-3</td>\n",
       "      <td>-3</td>\n",
       "      <td>-3</td>\n",
       "      <td>0.000000</td>\n",
       "      <td>-1.000000e+00</td>\n",
       "      <td>-1.0</td>\n",
       "    </tr>\n",
       "    <tr>\n",
       "      <th>999</th>\n",
       "      <td>2926209</td>\n",
       "      <td>2024-02-13 06:10:00.403000+00:00</td>\n",
       "      <td>NaN</td>\n",
       "      <td>-3</td>\n",
       "      <td>-3</td>\n",
       "      <td>-3</td>\n",
       "      <td>-3</td>\n",
       "      <td>0.000000</td>\n",
       "      <td>-1.000000e+00</td>\n",
       "      <td>-1.0</td>\n",
       "    </tr>\n",
       "  </tbody>\n",
       "</table>\n",
       "<p>1000 rows × 10 columns</p>\n",
       "</div>"
      ]
     },
     "execution_count": 54,
     "metadata": {},
     "output_type": "execute_result"
    }
   ],
   "execution_count": 54
  },
  {
   "metadata": {
    "ExecuteTime": {
     "end_time": "2024-06-26T06:36:29.432601Z",
     "start_time": "2024-06-26T06:36:29.393643Z"
    }
   },
   "cell_type": "code",
   "source": "applications.to_csv('contract_features.csv', index=False)",
   "id": "c0d55cf7ded041",
   "outputs": [],
   "execution_count": 55
  },
  {
   "metadata": {
    "ExecuteTime": {
     "end_time": "2024-06-26T06:36:29.437284Z",
     "start_time": "2024-06-26T06:36:29.434967Z"
    }
   },
   "cell_type": "code",
   "source": "",
   "id": "2293901a097209f1",
   "outputs": [],
   "execution_count": 55
  },
  {
   "metadata": {
    "ExecuteTime": {
     "end_time": "2024-06-26T06:36:29.440403Z",
     "start_time": "2024-06-26T06:36:29.438299Z"
    }
   },
   "cell_type": "code",
   "source": "",
   "id": "2a96a33c4164a0e3",
   "outputs": [],
   "execution_count": 55
  },
  {
   "metadata": {
    "ExecuteTime": {
     "end_time": "2024-06-26T06:36:29.443013Z",
     "start_time": "2024-06-26T06:36:29.441424Z"
    }
   },
   "cell_type": "code",
   "source": "",
   "id": "763097fbf8d2e82c",
   "outputs": [],
   "execution_count": 55
  }
 ],
 "metadata": {
  "kernelspec": {
   "display_name": "Python 3",
   "language": "python",
   "name": "python3"
  },
  "language_info": {
   "codemirror_mode": {
    "name": "ipython",
    "version": 2
   },
   "file_extension": ".py",
   "mimetype": "text/x-python",
   "name": "python",
   "nbconvert_exporter": "python",
   "pygments_lexer": "ipython2",
   "version": "2.7.6"
  }
 },
 "nbformat": 4,
 "nbformat_minor": 5
}
